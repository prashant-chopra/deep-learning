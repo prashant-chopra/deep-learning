{
 "cells": [
  {
   "cell_type": "markdown",
   "metadata": {
    "collapsed": true
   },
   "source": [
    "# TensorFlow Fundamentals"
   ]
  },
  {
   "cell_type": "code",
   "execution_count": 1,
   "metadata": {},
   "outputs": [],
   "source": [
    "# Import core TensorFlow libraries\n",
    "import tensorflow as tf\n",
    "import numpy as np"
   ]
  },
  {
   "cell_type": "markdown",
   "metadata": {},
   "source": [
    "# My First TensorFlow Graph\n",
    "\n",
    "![Basic basic graph](../resources/dataflow_basic.png)"
   ]
  },
  {
   "cell_type": "markdown",
   "metadata": {},
   "source": [
    "### Step 1: Define the graph\n",
    "\n",
    "* Nodes represent the computation to be performed.\n",
    "* Edges represent data transfer from one computation to the next.\n",
    "\n",
    "Remember that no computation actually takes place until we run it in a `tf.Session`!"
   ]
  },
  {
   "cell_type": "code",
   "execution_count": 2,
   "metadata": {},
   "outputs": [],
   "source": [
    "# `tf.placeholder` creates an \"input\" node- we will give it value when we run our model\n",
    "a = tf.placeholder(tf.int32, name=\"input_a\")\n",
    "b = tf.placeholder(tf.int32, name=\"input_b\")\n",
    "\n",
    "# `tf.add` creates an addition node\n",
    "c = tf.add(a, b, name=\"add\")\n",
    "\n",
    "# `tf.matmul` creates a multiplication node\n",
    "d = tf.multiply(a, b, name=\"multiply\")\n",
    "\n",
    "# Add up the results of the previous two nodes\n",
    "out = tf.add(c, d, name=\"output\")"
   ]
  },
  {
   "cell_type": "markdown",
   "metadata": {},
   "source": [
    "### Step 2: Run the graph\n",
    "\n",
    "* Start a `tf.Session` to launch the graph\n",
    "* Setup any necessary input values\n",
    "* Use `Session.run()` to compute values from the graph"
   ]
  },
  {
   "cell_type": "code",
   "execution_count": 4,
   "metadata": {},
   "outputs": [
    {
     "name": "stdout",
     "output_type": "stream",
     "text": [
      "23\n"
     ]
    }
   ],
   "source": [
    "# Start a session using with clause\n",
    "\n",
    "# Create a \"feed_dict\" dictionary to define input values\n",
    "# Keys to dictionary are handles to our placeholders\n",
    "# Values to dictionary are values we'd like to feed in\n",
    "\n",
    "with tf.Session() as sess:\n",
    "    feed_dict = { a:5,b:3 }\n",
    "    output = sess.run(out,feed_dict=feed_dict)\n",
    "\n",
    "print(output)\n",
    "\n",
    "# This can also be achieved as follows without \"with\"clause\n",
    "\n",
    "# sess = tf.Session()\n",
    "# feed_dict = { a: 5, b: 3 }\n",
    "# output = sess.run(out, feed_dict=feed_dict)\n",
    "\n",
    "# print(output)"
   ]
  },
  {
   "cell_type": "code",
   "execution_count": 5,
   "metadata": {},
   "outputs": [],
   "source": [
    "# Once we're done with our compuations, we can close down our `Session`\n",
    "sess.close()"
   ]
  },
  {
   "cell_type": "markdown",
   "metadata": {
    "collapsed": true
   },
   "source": [
    "# TensorFlow Core API\n",
    "\n",
    "---\n",
    "\n",
    "# `Tensor` Objects"
   ]
  },
  {
   "cell_type": "markdown",
   "metadata": {},
   "source": [
    "## What is a Tensor?\n",
    "\n",
    "Tensors, simply put, are _n_-dimensional matrices. A 0-dimensional tensor is a single number (or scalar), a 1-dimensional tensor is a vector, and a 2-dimensional tensor is a standard matrix. Higher dimensional tensors are simply referred to as an \"_n_-D tensor\"\n",
    "\n",
    "Every value that is passed through a TensorFlow model is a `Tensor` object- the TensorFlow representation of a tensor."
   ]
  },
  {
   "cell_type": "markdown",
   "metadata": {},
   "source": [
    "## Defining tensors by hand\n",
    "\n",
    "You can define `Tensor` object values in two main ways:\n",
    "\n",
    "1. Native Python types\n",
    "2. NumPy arrays (recommended)\n",
    "\n",
    "Both of these are able to be automatically converted into TensorFlow `Tensor` objects."
   ]
  },
  {
   "cell_type": "markdown",
   "metadata": {},
   "source": [
    "### Native Python"
   ]
  },
  {
   "cell_type": "code",
   "execution_count": 6,
   "metadata": {},
   "outputs": [],
   "source": [
    "# 0-D tensor (scalar)\n",
    "t_0d_py = 4\n",
    "\n",
    "# 1-D tensor (vector)\n",
    "t_1d_py = [1, 2, 3]\n",
    "\n",
    "# 2-D tensor (matrix)\n",
    "t_2d_py = [[1, 2], \n",
    "           [3, 4], \n",
    "           [5, 6]]\n",
    "\n",
    "# 3-D tensor\n",
    "t_3d_py = [[[0, 0], [0, 1], [0, 2]],\n",
    "           [[1, 0], [1, 1], [1, 2]],\n",
    "           [[2, 0], [2, 1], [2, 2]]]"
   ]
  },
  {
   "cell_type": "markdown",
   "metadata": {},
   "source": [
    "### NumPy Arrays\n",
    "\n",
    "Pretty much the same as native Python, but with the `numpy.array` function wrapping it:"
   ]
  },
  {
   "cell_type": "code",
   "execution_count": 7,
   "metadata": {},
   "outputs": [],
   "source": [
    "# 0-D tensor (scalar)\n",
    "t_0d_np = np.array(4, dtype=np.int32)\n",
    "\n",
    "# 1-D tensor (vector)\n",
    "t_1d_np = np.array([1, 2, 3], dtype=np.int64)\n",
    "\n",
    "# 2-D tensor (matrix)\n",
    "t_2d_np = np.array([[1, 2], \n",
    "                    [3, 4], \n",
    "                    [5, 6]],\n",
    "                   dtype=np.float32)\n",
    "\n",
    "# 3-D tensor\n",
    "t_3d_np = np.array([[[0, 0], [0, 1], [0, 2]],\n",
    "                    [[1, 0], [1, 1], [1, 2]],\n",
    "                    [[2, 0], [2, 1], [2, 2]]],\n",
    "                   dtype=np.int32)"
   ]
  },
  {
   "cell_type": "markdown",
   "metadata": {},
   "source": [
    "### Data types\n",
    "\n",
    "In general, using `np.array` (or `np.asarray`) is the recommended way of defining values for tensors by hand in TensorFlow. The primary reason for this is that you can specify the exact data type (\"dtype\") you'd like the values to be represented with. For example, there's no way to specify a 32-bit integer vs a 64-bit integer with native Python. TensorFlow is tightly integrated with NumPy, and most TensorFlow data types have a corresponding NumPy `dtype`:"
   ]
  },
  {
   "cell_type": "markdown",
   "metadata": {},
   "source": [
    "TensorFlow type | Equivalent NumPy type | Description\n",
    "--- | --- | ---\n",
    "`tf.float32` | `np.float32` | 32 bit floating point.\n",
    "`tf.float64` | `np.float64` | 64 bit floating point.\n",
    "`tf.int8` | `np.int8` | 8 bit signed integer.\n",
    "`tf.int16` | `np.int16` | 16 bit signed integer.\n",
    "`tf.int32` | `np.int32` | 32 bit signed integer.\n",
    "`tf.int64` | `np.int64` | 64 bit signed integer.\n",
    "`tf.uint8` | `np.uint8` | 8 bit unsigned integer.\n",
    "`tf.string` | N/A | String type, as byte array\n",
    "`tf.bool` | `np.bool` | Boolean.\n",
    "`tf.complex64` | `np.complex64` | Complex number made of two 32 bit floating point numbers: real and imaginary parts.\n",
    "`tf.qint8` | N/A | 8 bit signed integer used in quantized Ops.\n",
    "`tf.qint32` | N/A | 32 bit signed integer used in quantized Ops.\n",
    "`tf.quint8` | N/A | 8 bit unsigned integer used in quantized Ops.\n",
    "\n",
    "Slightly modified version of [this table](https://www.tensorflow.org/versions/master/resources/dims_types.html#data-types)\n"
   ]
  },
  {
   "cell_type": "code",
   "execution_count": 8,
   "metadata": {},
   "outputs": [
    {
     "data": {
      "text/plain": [
       "True"
      ]
     },
     "execution_count": 8,
     "metadata": {},
     "output_type": "execute_result"
    }
   ],
   "source": [
    "# Just to show that they are equivalent\n",
    "(tf.float32 == np.float32 and\n",
    " tf.float64 == np.float64 and\n",
    " tf.int8 == np.int8 and\n",
    " tf.int16 == np.int16 and\n",
    " tf.int32 == np.int32 and\n",
    " tf.int64 == np.int64 and\n",
    " tf.uint8 == np.uint8 and\n",
    " tf.bool == np.bool and\n",
    " tf.complex64 == np.complex64)"
   ]
  },
  {
   "cell_type": "markdown",
   "metadata": {},
   "source": [
    "The primary exception to when you should _not_ use `np.array()` is when defining a `Tensor` of strings. When using strings, just use standard Python lists. It's best practice to include the `b` prefix in front of strings to explicitly define the strings as byte-arrays:"
   ]
  },
  {
   "cell_type": "code",
   "execution_count": 9,
   "metadata": {},
   "outputs": [],
   "source": [
    "tf_string_tensor = [b\"first\", b\"second\", b\"third\"]"
   ]
  },
  {
   "cell_type": "markdown",
   "metadata": {},
   "source": [
    "### Tensor Shapes\n",
    "\n",
    "A common term in TensorFlow is a `Tensor` object's \"shape\". A shape value is a list or tuple containing an ordered set of integers. The _i_-th  element in the list describes the length of the _i_-th dimension in the tensor, while the number of elements in the list defines the dimensionality of the tensor. Here are some examples:"
   ]
  },
  {
   "cell_type": "code",
   "execution_count": 10,
   "metadata": {},
   "outputs": [],
   "source": [
    "# Shapes corresponding to scalars\n",
    "# Note that either lists or tuples can be used\n",
    "s_0d_list = []\n",
    "s_0d_tuple = ()\n",
    "\n",
    "# Shape corresponding to a vector of length 3\n",
    "s_1d = [3]\n",
    "\n",
    "# Shape corresponding to a 2-by-3 matrix\n",
    "s_2d = (2, 3)\n",
    "\n",
    "# Shape corresponding to a 4-by-4-by-4 cube tensor\n",
    "s_3d = [4, 4, 4]\n",
    "\n",
    "s_var = [None, 4, 4]"
   ]
  },
  {
   "cell_type": "markdown",
   "metadata": {},
   "source": [
    "You can use the `tf.shape` Operation to get the shape value of `Tensor` objects:"
   ]
  },
  {
   "cell_type": "code",
   "execution_count": 11,
   "metadata": {},
   "outputs": [
    {
     "name": "stdout",
     "output_type": "stream",
     "text": [
      "Shape of tensor: [4 2 3]\n"
     ]
    }
   ],
   "source": [
    "with tf.Session() as sess:\n",
    "    get_shape = tf.shape([[[1, 2, 3], [1, 2, 3]],\n",
    "                          [[2, 4, 6], [2, 4, 6]],\n",
    "                          [[3, 6, 9], [3, 6, 9]],\n",
    "                          [[4, 8, 12], [4, 8, 12]]])\n",
    "    shape = sess.run(get_shape)\n",
    "    print(\"Shape of tensor: \" + str(shape))"
   ]
  },
  {
   "cell_type": "markdown",
   "metadata": {},
   "source": [
    "### Constants\n",
    "\n",
    "You can create `Tensor` constants in your TensorFlow graph easily. Just use the `tf.constant` function:"
   ]
  },
  {
   "cell_type": "code",
   "execution_count": 12,
   "metadata": {},
   "outputs": [],
   "source": [
    "my_const = tf.constant(np.array([1, 2, 3], dtype=np.float32))"
   ]
  },
  {
   "cell_type": "markdown",
   "metadata": {},
   "source": [
    "If a set of values is going to be reused all throughout your graph, using constants is an easy way to place that value directly into the graph (instead of reading from a NumPy array or Python list directly)\n",
    "\n",
    "Note: all `Tensor` objects are immutable. The constant type is simply a convenient way to add basic `Tensor` values to a graph."
   ]
  },
  {
   "cell_type": "markdown",
   "metadata": {},
   "source": [
    "## A Note on `SparseTensor`\n",
    "\n",
    "TensorFlow has implementations of sparse tensor representations, or tensors whose entries primarily consist of zeros. In some instances, `SparseTensor` and `Tensor` objects can be intermixed, but more often than not they require more care. Because the `SparseTensor` API isn't as robust as the `Tensor` API and for the sake of keeping things digestible, we won't cover `SparseTensor` objects today."
   ]
  },
  {
   "cell_type": "markdown",
   "metadata": {},
   "source": [
    "# Operations"
   ]
  },
  {
   "cell_type": "markdown",
   "metadata": {},
   "source": [
    "TensorFlow `Operation` objects (also referred to as \"Ops\" in the TensorFlow documentation- we will avoid that usage today to avoid mixing DevOps and TensorFlow Ops) are nodes that perform compuation on or with Tensor objects. They take as input zero or more `Tensor` objects (or objects that can be converted into tensors- see the previous section), and output zero or more tensors. These outputs can then either be returned to the client or passed on to further Operations. Operations are the fundamental building blocks of any TensorFlow graph- their calculations represent nodes, and data flowing from one to the next represents edges.\n"
   ]
  },
  {
   "cell_type": "markdown",
   "metadata": {},
   "source": [
    "We've already seen several Operations earlier: `tf.add` and `tf.mul` are classic examples: they both take in two tensors and output one. When given non-scalar values, they do addition/multiplication element-wise."
   ]
  },
  {
   "cell_type": "code",
   "execution_count": 13,
   "metadata": {},
   "outputs": [],
   "source": [
    "# Initialize some tensors\n",
    "a = np.array([1, 2], dtype=np.int32)\n",
    "b = np.array([3, 4], dtype=np.int32)\n",
    "\n",
    "# `tf.add()` creates an \"add\" Operation and places it in the graph\n",
    "# The variable `c` will be a handle to the output of the operation\n",
    "# This output can be passed on to other Operations!\n",
    "c = tf.add(a, b)"
   ]
  },
  {
   "cell_type": "markdown",
   "metadata": {},
   "source": [
    "The important thing to remember is that Operations do not execute when created- that's the reason `tf.add([1, 2],[3, 4])` doesn't return the value `[4, 6]` immediately. It must be passed into a `Session.run()` method, which we'll cover in more detail below."
   ]
  },
  {
   "cell_type": "code",
   "execution_count": 14,
   "metadata": {},
   "outputs": [
    {
     "name": "stdout",
     "output_type": "stream",
     "text": [
      "[4 6]\n"
     ]
    }
   ],
   "source": [
    "sess = tf.Session()\n",
    "print(sess.run(c))\n",
    "\n",
    "c_result = sess.run(c)"
   ]
  },
  {
   "cell_type": "markdown",
   "metadata": {},
   "source": [
    "The majority of the TensorFlow API is Operations. `tf.scalar_summary` and `tf.placeholder` were both Operations we used in the first example- remember that we had to run the `out_summary` variable in `Session.run()`\n",
    "\n",
    "In addition to Operation-specific inputs, each Operation can take in a `name` parameter, which can help identify Operations in TensorBoard and other tools."
   ]
  },
  {
   "cell_type": "code",
   "execution_count": 15,
   "metadata": {},
   "outputs": [],
   "source": [
    "c = tf.add(a, b, name=\"my_add_operation\")"
   ]
  },
  {
   "cell_type": "markdown",
   "metadata": {},
   "source": [
    "Getting into the habit of adding names to your Operations now will save you headaches later on."
   ]
  }
 ],
 "metadata": {
  "kernelspec": {
   "display_name": "Python 3",
   "language": "python",
   "name": "python3"
  },
  "language_info": {
   "codemirror_mode": {
    "name": "ipython",
    "version": 3
   },
   "file_extension": ".py",
   "mimetype": "text/x-python",
   "name": "python",
   "nbconvert_exporter": "python",
   "pygments_lexer": "ipython3",
   "version": "3.5.4"
  }
 },
 "nbformat": 4,
 "nbformat_minor": 1
}
