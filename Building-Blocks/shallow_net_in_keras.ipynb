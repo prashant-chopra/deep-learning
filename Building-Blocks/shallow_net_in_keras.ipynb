{
 "cells": [
  {
   "cell_type": "markdown",
   "metadata": {},
   "source": [
    "# Shallow Net Demo in Keras (https://keras.io)\n",
    "\n",
    "This notebook will cover creating a shallow neural network to clasify MNIST digits.\n",
    "\n",
    "### MNIST DATASET\n",
    "\n",
    "MNIST database consists of handwritten digits, which has a training set of 60,000 images, and a test set of 10,000 images. Database was constructed from NIST's Special Database 3 (SD-3) & Special Database 1 (SD-1) which contains digits handwritten by US Census Bureau employees and high-school students, respectively. \n",
    "\n",
    "|Training Set|Test Set\n",
    "-|-|-\n",
    "**SD-3**|30,000|5,000\n",
    "**SD-1**|30,000|5,000\n",
    "\n",
    "Each image is **28x28** i.e we have **784** pixels in each image.\n"
   ]
  },
  {
   "cell_type": "markdown",
   "metadata": {},
   "source": [
    "#### Setting seed for reproducability"
   ]
  },
  {
   "cell_type": "code",
   "execution_count": 1,
   "metadata": {},
   "outputs": [],
   "source": [
    "import numpy as np\n",
    "np.random.seed(10)"
   ]
  },
  {
   "cell_type": "markdown",
   "metadata": {},
   "source": [
    "#### Import Dependencies"
   ]
  },
  {
   "cell_type": "code",
   "execution_count": 2,
   "metadata": {},
   "outputs": [],
   "source": [
    "import keras\n",
    "from keras.datasets import mnist\n",
    "from keras.models import Sequential\n",
    "from keras.layers import Dense\n",
    "from keras.optimizers import SGD"
   ]
  },
  {
   "attachments": {},
   "cell_type": "markdown",
   "metadata": {},
   "source": [
    "#### What is Dense Layer?\n",
    "\n",
    "Each image is 28x28 i.e we have 784 pixels in each image.\n",
    "\n",
    "0|1|..........|27\n",
    "-|-|----------|\n",
    "28|29|........|55\n",
    ".|.|..........|\n",
    ".|.|..........|\n",
    ".|.|..........|\n",
    ".|.|..........|**783**\n",
    "\n",
    "We are going to flatten the image to create an array of 784 elements. \n",
    "\n",
    "[0,|1,|2,|......|27,|28,|......|783]\n",
    "-|-|-|-|-|-|-|\n",
    "\n",
    "![MNIST Flattened](../resources/MNIST-flat.png)\n",
    "\n",
    "* Flattened array of 784 elements(pixels) above is **INPUT** to our neural net.\n",
    "* **INPUT LAYER** is fed into **HIDDEN LAYER** to clasify digits into 10 possible classes i.e. 0 to 9 in the **OUTPUT LAYER**.\n",
    "* A layer is said to be **DENSE or FULLY CONNECTED** when all the neurons of a layer are fully connected to all of the neurons of layer above as well as layer below, as shown in the image below.\n",
    "* For Eg: In this scenario, if you pick in any neuron in hidden layer, its receiving input from all 784 neurons of input layer and outputing to all 10 neurons of output layer.\n",
    "\n",
    "![Dense Layer](../resources/Dense.png)"
   ]
  },
  {
   "cell_type": "markdown",
   "metadata": {},
   "source": [
    "#### Load Data"
   ]
  },
  {
   "cell_type": "code",
   "execution_count": null,
   "metadata": {},
   "outputs": [],
   "source": []
  }
 ],
 "metadata": {
  "kernelspec": {
   "display_name": "Python 3",
   "language": "python",
   "name": "python3"
  },
  "language_info": {
   "codemirror_mode": {
    "name": "ipython",
    "version": 3
   },
   "file_extension": ".py",
   "mimetype": "text/x-python",
   "name": "python",
   "nbconvert_exporter": "python",
   "pygments_lexer": "ipython3",
   "version": "3.5.4"
  }
 },
 "nbformat": 4,
 "nbformat_minor": 2
}
